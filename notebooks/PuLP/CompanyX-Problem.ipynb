{
 "cells": [
  {
   "cell_type": "markdown",
   "metadata": {},
   "source": [
    "# Company X Problem\n",
    "\n",
    "The **Company X** wants to know, How many products the company should make monthly. This company makes, **tables**, **sofas** and **chairs**. The requirements of each product is in the next Diagram:   \n",
    "\n",
    "![](CompanyX.png)\n",
    "\n",
    "* The Company needs to pay $\\$ 75000$ monthly, this includes, $1540$ hours of work ($\\$ 48.70$ per hour).\n",
    "\n",
    "* Prices of each product:\n",
    "  * Tables: $\\$ 400$ per unit.\n",
    "  * Sofas:  $\\$ 750$ per unit.\n",
    "  * Chairs: $\\$ 240$ per unit.\n",
    "\n",
    "## Variables\n",
    "\n",
    "* $X_{1}$ = Table\n",
    "* $X_{2}$ = Sofa\n",
    "* $X_{3}$ = Chair\n",
    "\n",
    "## Objective function\n",
    "\n",
    "- $z(max) = (400-100) X_{1} + (750-75-175) X_{2} + (240-40) X_{3} - 75000$\n",
    "- $z(max) = 300 X_{1} + 500 X_{2} + 200 X_{3} - 75000$\n",
    "\n",
    "## Constraints:\n",
    "\n",
    "* $C_1$(Wood): $10 X_{1} + 7.5 X_{2} + 4 X_{3} \\leq 4350$\n",
    "* $C_2$(Cloth): $10 X_{2} \\leq 2500$\n",
    "* $C_3$(Saw): $0.5 X_{1} + 0.4 X_{2} + 0.5 X_{3} \\leq 280$\n",
    "* $C_4$(Cut Cloth): $0.4 X_{2} \\leq 140$\n",
    "* $C_5$(Sand): $0.5 X_{1} + 0.1 X_{2} + 0.5 X_{3} \\leq 280$\n",
    "* $C_6$(Inky): $0.4 X_{1} + 0.2 X_{2} + 0.4 X_{3} \\leq 140$\n",
    "* $C_7$(Assembly): $1 X_{1} + 1.5 X_{2} + 0.5 X_{3} \\leq 700$\n",
    "\n",
    "### Demand\n",
    "\n",
    "* $C_8$(Tables): $X_{1} \\leq 300$\n",
    "* $C_9$(Sofas): $X_{2} \\leq 180$\n",
    "* $C_{10}$(Chairs): $X_{3} \\leq 400$"
   ]
  },
  {
   "cell_type": "code",
   "execution_count": 1,
   "metadata": {},
   "outputs": [],
   "source": [
    "import pulp"
   ]
  },
  {
   "cell_type": "code",
   "execution_count": 2,
   "metadata": {},
   "outputs": [],
   "source": [
    "z = pulp.LpProblem(\"Company X\", pulp.LpMaximize)\n",
    "x1 = pulp.LpVariable(\"x1\", lowBound=0)\n",
    "x2 = pulp.LpVariable(\"x2\", lowBound=0)\n",
    "x3 = pulp.LpVariable(\"x3\", lowBound=0)"
   ]
  },
  {
   "cell_type": "code",
   "execution_count": 3,
   "metadata": {},
   "outputs": [],
   "source": [
    "z += 300*x1 + 500*x2 + 200*x3 - 75000"
   ]
  },
  {
   "cell_type": "code",
   "execution_count": 4,
   "metadata": {},
   "outputs": [],
   "source": [
    "z += 10*x1 + 7.5*x2 + 4*x3 <= 4350\n",
    "z += 10*x2 <= 2500\n",
    "z += 0.5*x1 + 0.4*x2 + 0.5*x3 <= 280\n",
    "z += 0.4*x2 <= 140\n",
    "z += 0.5*x1 + 0.1*x2 + 0.5*x3 <= 280\n",
    "z += 0.4*x1 + 0.2*x2 + 0.4*x3 <= 140\n",
    "z += 1*x1 + 1.5*x2 + 0.5*x3 <= 700\n",
    "\n",
    "z += 1*x1 <= 300\n",
    "z += 1*x2 <= 180\n",
    "z += 1*x3 <= 400"
   ]
  },
  {
   "cell_type": "code",
   "execution_count": 5,
   "metadata": {},
   "outputs": [
    {
     "data": {
      "text/plain": [
       "Company X:\n",
       "MAXIMIZE\n",
       "300*x1 + 500*x2 + 200*x3 + -75000\n",
       "SUBJECT TO\n",
       "_C1: 10 x1 + 7.5 x2 + 4 x3 <= 4350\n",
       "\n",
       "_C2: 10 x2 <= 2500\n",
       "\n",
       "_C3: 0.5 x1 + 0.4 x2 + 0.5 x3 <= 280\n",
       "\n",
       "_C4: 0.4 x2 <= 140\n",
       "\n",
       "_C5: 0.5 x1 + 0.1 x2 + 0.5 x3 <= 280\n",
       "\n",
       "_C6: 0.4 x1 + 0.2 x2 + 0.4 x3 <= 140\n",
       "\n",
       "_C7: x1 + 1.5 x2 + 0.5 x3 <= 700\n",
       "\n",
       "_C8: x1 <= 300\n",
       "\n",
       "_C9: x2 <= 180\n",
       "\n",
       "_C10: x3 <= 400\n",
       "\n",
       "VARIABLES\n",
       "x1 Continuous\n",
       "x2 Continuous\n",
       "x3 Continuous"
      ]
     },
     "execution_count": 5,
     "metadata": {},
     "output_type": "execute_result"
    }
   ],
   "source": [
    "z"
   ]
  },
  {
   "cell_type": "code",
   "execution_count": 6,
   "metadata": {},
   "outputs": [
    {
     "data": {
      "text/plain": [
       "'Optimal'"
      ]
     },
     "execution_count": 6,
     "metadata": {},
     "output_type": "execute_result"
    }
   ],
   "source": [
    "pulp.LpStatus[z.solve()]"
   ]
  },
  {
   "cell_type": "code",
   "execution_count": 7,
   "metadata": {},
   "outputs": [
    {
     "data": {
      "text/plain": [
       "(260.0, 180.0, 0.0, 93000.0)"
      ]
     },
     "execution_count": 7,
     "metadata": {},
     "output_type": "execute_result"
    }
   ],
   "source": [
    "pulp.value(x1), pulp.value(x2), pulp.value(x3), pulp.value(z.objective)"
   ]
  }
 ],
 "metadata": {
  "kernelspec": {
   "display_name": "Python 3",
   "language": "python",
   "name": "python3"
  },
  "language_info": {
   "codemirror_mode": {
    "name": "ipython",
    "version": 3
   },
   "file_extension": ".py",
   "mimetype": "text/x-python",
   "name": "python",
   "nbconvert_exporter": "python",
   "pygments_lexer": "ipython3",
   "version": "3.7.0"
  }
 },
 "nbformat": 4,
 "nbformat_minor": 2
}
