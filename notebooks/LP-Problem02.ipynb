{
 "cells": [
  {
   "cell_type": "markdown",
   "metadata": {},
   "source": [
    "# Solving an Integer Linear Programming Problem"
   ]
  },
  {
   "cell_type": "code",
   "execution_count": 1,
   "metadata": {},
   "outputs": [],
   "source": [
    "from scipy.optimize import linprog\n",
    "import numpy as np"
   ]
  },
  {
   "cell_type": "markdown",
   "metadata": {},
   "source": [
    "## Objective function\n",
    "\n",
    "$$z(max) = 7x_1 + 6x_2$$\n",
    "\n",
    "## Constraints:\n",
    "\n",
    "$$C_1 = 2x_1 + 3x_2 \\leq 12$$\n",
    "$$C_2 = 6x_1 + 5x_2 \\leq 30$$\n",
    "$$x_1,x_2 \\geq 0$$\n",
    "<center> $x_1, x_2$ must be **Integers** </center>"
   ]
  },
  {
   "cell_type": "code",
   "execution_count": 2,
   "metadata": {},
   "outputs": [],
   "source": [
    "z = np.array([ 7, 6])"
   ]
  },
  {
   "cell_type": "code",
   "execution_count": 3,
   "metadata": {},
   "outputs": [],
   "source": [
    "C = np.array([\n",
    "    [ 2, 3],          #C1\n",
    "    [ 6, 5]           #C2\n",
    "])"
   ]
  },
  {
   "cell_type": "code",
   "execution_count": 4,
   "metadata": {},
   "outputs": [],
   "source": [
    "b = np.array([12, 30])"
   ]
  },
  {
   "cell_type": "code",
   "execution_count": 5,
   "metadata": {},
   "outputs": [],
   "source": [
    "x1 = (0, None)\n",
    "x2 = (0, None)"
   ]
  },
  {
   "cell_type": "code",
   "execution_count": 6,
   "metadata": {},
   "outputs": [],
   "source": [
    "sol = linprog(-z, A_ub = C, b_ub = b, bounds = (x1, x2), method='simplex')"
   ]
  },
  {
   "cell_type": "code",
   "execution_count": 7,
   "metadata": {
    "scrolled": true
   },
   "outputs": [
    {
     "data": {
      "text/plain": [
       "     fun: -35.25\n",
       " message: 'Optimization terminated successfully.'\n",
       "     nit: 2\n",
       "   slack: array([ 0.,  0.])\n",
       "  status: 0\n",
       " success: True\n",
       "       x: array([ 3.75,  1.5 ])"
      ]
     },
     "execution_count": 7,
     "metadata": {},
     "output_type": "execute_result"
    }
   ],
   "source": [
    "sol"
   ]
  },
  {
   "cell_type": "markdown",
   "metadata": {},
   "source": [
    "In this case this problem is not giving Integer Variables.\n",
    "\n",
    "Getting integer variables, add `options={'maxiter':True}` in the parameters of `linprog`."
   ]
  },
  {
   "cell_type": "code",
   "execution_count": 8,
   "metadata": {},
   "outputs": [],
   "source": [
    "sol = linprog(-z, A_ub = C, b_ub = b, bounds = (x1, x2), method='simplex', options={'maxiter':True})"
   ]
  },
  {
   "cell_type": "code",
   "execution_count": 9,
   "metadata": {},
   "outputs": [
    {
     "data": {
      "text/plain": [
       "     fun: -35.0\n",
       " message: 'Iteration limit reached.'\n",
       "     nit: 1\n",
       "   slack: array([ 2.,  0.])\n",
       "  status: 1\n",
       " success: False\n",
       "       x: array([ 5.,  0.])"
      ]
     },
     "execution_count": 9,
     "metadata": {},
     "output_type": "execute_result"
    }
   ],
   "source": [
    "sol"
   ]
  },
  {
   "cell_type": "markdown",
   "metadata": {},
   "source": [
    "To print the values that we need:"
   ]
  },
  {
   "cell_type": "code",
   "execution_count": 10,
   "metadata": {},
   "outputs": [
    {
     "name": "stdout",
     "output_type": "stream",
     "text": [
      "x1 = 5.0, x2 = 0.0, z = 35.0\n"
     ]
    }
   ],
   "source": [
    "print(\"x1 = {}, x2 = {}, z = {}\".format(sol.x[0], sol.x[1], sol.fun*-1))"
   ]
  },
  {
   "cell_type": "markdown",
   "metadata": {},
   "source": [
    "LP problem is solved, to check the result just replace the values $x_1$ and $x_2$ into the objective function.\n",
    "\n",
    "$$z(max) = 7x_1 + 6x_2$$\n",
    "$$z(max) = 7*5 + 6*0$$\n",
    "$$z(max) = 35$$"
   ]
  },
  {
   "cell_type": "markdown",
   "metadata": {},
   "source": [
    "Using an easy way by multiplying our `z` function ```z = np.array([7,6])``` and our ```sol.x``` values."
   ]
  },
  {
   "cell_type": "code",
   "execution_count": 11,
   "metadata": {},
   "outputs": [
    {
     "name": "stdout",
     "output_type": "stream",
     "text": [
      "z = 35.0\n"
     ]
    }
   ],
   "source": [
    "OF = z*sol.x\n",
    "print(\"z = {}\".format(OF.sum()))"
   ]
  }
 ],
 "metadata": {
  "kernelspec": {
   "display_name": "Python 3",
   "language": "python",
   "name": "python3"
  },
  "language_info": {
   "codemirror_mode": {
    "name": "ipython",
    "version": 3
   },
   "file_extension": ".py",
   "mimetype": "text/x-python",
   "name": "python",
   "nbconvert_exporter": "python",
   "pygments_lexer": "ipython3",
   "version": "3.6.3"
  }
 },
 "nbformat": 4,
 "nbformat_minor": 2
}
