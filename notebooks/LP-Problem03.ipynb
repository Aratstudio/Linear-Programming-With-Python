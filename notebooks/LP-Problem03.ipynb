{
 "cells": [
  {
   "cell_type": "markdown",
   "metadata": {},
   "source": [
    "$$z(max) = 300 X_1 + 500 X_2 + 200 X_3 - 75000$$\n",
    "\n",
    "## Constraints:\n",
    "\n",
    "* $C_1$(Wood): $10 X_1 + 7.5 X_2 + 4 X_3 \\leq 4350$\n",
    "* $C_2$(Cloth): $10 X_2 \\leq 2500$\n",
    "* $C_3$(Saw): $0.5 X_1 + 0.4 X_2 + 0.5 X_3 \\leq 280$\n",
    "* $C_4$(Cut Cloth): $0.4 X_2 \\leq 140$\n",
    "* $C_5$(Sand): $0.5 X_1 + 0.1 X_2 + 0.5 X_3 \\leq 280$\n",
    "* $C_6$(Inky): $0.4 X_1 + 0.2 X_2 + 0.4 X_3 \\leq 140$\n",
    "* $C_7$(Assembly): $1 X_1 + 1.5 X_2 + 0.5 X_3 \\leq 700$\n",
    "\n",
    "### Demand\n",
    "* $C_8$(Tables): $X_1 \\leq 300$\n",
    "* $C_9$(Sofas): $X_2 \\leq 180$\n",
    "* $C_{10}$(Chairs): $X_3 \\leq 400$"
   ]
  },
  {
   "cell_type": "code",
   "execution_count": 1,
   "metadata": {},
   "outputs": [],
   "source": [
    "from scipy.optimize import linprog\n",
    "import numpy as np"
   ]
  },
  {
   "cell_type": "markdown",
   "metadata": {},
   "source": [
    "#### Objective Function"
   ]
  },
  {
   "cell_type": "code",
   "execution_count": 2,
   "metadata": {},
   "outputs": [],
   "source": [
    "z = np.array([300,500,200])"
   ]
  },
  {
   "cell_type": "markdown",
   "metadata": {},
   "source": [
    "#### Constraints"
   ]
  },
  {
   "cell_type": "code",
   "execution_count": 3,
   "metadata": {},
   "outputs": [],
   "source": [
    "C = np.array([\n",
    "    [ 10, 7.5,   4],        #C1\n",
    "    [  0,  10,   0],        #C2\n",
    "    [0.5, 0.4, 0.5],        #C3\n",
    "    [  0, 0.4,   0],        #C4\n",
    "    [0.5, 0.1, 0.5],        #C5\n",
    "    [0.4, 0.2, 0.4],        #C6\n",
    "    [  1, 1.5, 0.5],        #C7\n",
    "    [  1,   0,   0],        #C8\n",
    "    [  0,   1,   0],        #C9\n",
    "    [  0,   0,   1]         #C10\n",
    "])\n",
    "\n",
    "b = np.array([4350, 2500, 280, 140, 280, 140, 700, 300, 180, 400])"
   ]
  },
  {
   "cell_type": "markdown",
   "metadata": {},
   "source": [
    "#### Bounds"
   ]
  },
  {
   "cell_type": "code",
   "execution_count": 4,
   "metadata": {},
   "outputs": [],
   "source": [
    "x1 = (0, None)\n",
    "x2 = (0, None)\n",
    "x3 = (0, None)"
   ]
  },
  {
   "cell_type": "markdown",
   "metadata": {},
   "source": [
    "#### Solution"
   ]
  },
  {
   "cell_type": "code",
   "execution_count": 7,
   "metadata": {},
   "outputs": [
    {
     "data": {
      "text/plain": [
       "     fun: -168000.0\n",
       " message: 'Optimization terminated successfully.'\n",
       "     nit: 2\n",
       "   slack: array([ 400.,  700.,   78.,   68.,  132.,    0.,  170.,   40.,    0.,  400.])\n",
       "  status: 0\n",
       " success: True\n",
       "       x: array([ 260.,  180.,    0.])"
      ]
     },
     "execution_count": 7,
     "metadata": {},
     "output_type": "execute_result"
    }
   ],
   "source": [
    "sol = linprog(-z, A_ub = C, b_ub = b, bounds = (x1, x2, x3), method='simplex')\n",
    "sol"
   ]
  },
  {
   "cell_type": "code",
   "execution_count": 9,
   "metadata": {},
   "outputs": [
    {
     "data": {
      "text/plain": [
       "93000.0"
      ]
     },
     "execution_count": 9,
     "metadata": {},
     "output_type": "execute_result"
    }
   ],
   "source": [
    "sol.fun*-1 - 75000"
   ]
  },
  {
   "cell_type": "code",
   "execution_count": null,
   "metadata": {},
   "outputs": [],
   "source": []
  }
 ],
 "metadata": {
  "kernelspec": {
   "display_name": "Python 3",
   "language": "python",
   "name": "python3"
  },
  "language_info": {
   "codemirror_mode": {
    "name": "ipython",
    "version": 3
   },
   "file_extension": ".py",
   "mimetype": "text/x-python",
   "name": "python",
   "nbconvert_exporter": "python",
   "pygments_lexer": "ipython3",
   "version": "3.6.3"
  }
 },
 "nbformat": 4,
 "nbformat_minor": 2
}
