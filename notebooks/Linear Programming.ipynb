{
 "cells": [
  {
   "cell_type": "code",
   "execution_count": 1,
   "metadata": {
    "collapsed": true
   },
   "outputs": [],
   "source": [
    "from scipy.optimize import linprog\n",
    "import numpy as np"
   ]
  },
  {
   "cell_type": "markdown",
   "metadata": {},
   "source": [
    "Objective function:\n",
    "$$z(max) = 7x_1 + 6x_2$$\n",
    "\n",
    "Constraints:\n",
    "$$C_1 = 2*x_1 + 3*x_2 \\leq 12$$\n",
    "$$C_2 = 6*x_1 + 5*x_2 \\leq 30$$\n",
    "$$x_1,x_2 \\geq 0$$"
   ]
  },
  {
   "cell_type": "code",
   "execution_count": 2,
   "metadata": {
    "collapsed": true
   },
   "outputs": [],
   "source": [
    "z = np.array([7,6])"
   ]
  },
  {
   "cell_type": "markdown",
   "metadata": {},
   "source": [
    "C for constraints, which is going to store all constraints of the problem."
   ]
  },
  {
   "cell_type": "code",
   "execution_count": 3,
   "metadata": {
    "collapsed": true
   },
   "outputs": [],
   "source": [
    "C = np.array([\n",
    "    [2,3],            #C1\n",
    "    [6,6]             #C2\n",
    "])"
   ]
  },
  {
   "cell_type": "markdown",
   "metadata": {},
   "source": [
    "Then store the 12 and 30 for each constraint."
   ]
  },
  {
   "cell_type": "code",
   "execution_count": 4,
   "metadata": {
    "collapsed": true
   },
   "outputs": [],
   "source": [
    "b = np.array([12,30])"
   ]
  },
  {
   "cell_type": "markdown",
   "metadata": {},
   "source": [
    "To solve the problem we need to call linprog, and store the solution in a variable. \n",
    "\n",
    "We are going to use sol."
   ]
  },
  {
   "cell_type": "code",
   "execution_count": 5,
   "metadata": {
    "collapsed": true
   },
   "outputs": [],
   "source": [
    "sol = linprog(-z, A_ub = C, b_ub = b, bounds = (0,None))"
   ]
  },
  {
   "cell_type": "code",
   "execution_count": 6,
   "metadata": {},
   "outputs": [
    {
     "name": "stdout",
     "output_type": "stream",
     "text": [
      "     fun: -35.0\n",
      " message: 'Optimization terminated successfully.'\n",
      "     nit: 1\n",
      "   slack: array([ 2.,  0.])\n",
      "  status: 0\n",
      " success: True\n",
      "       x: array([ 5.,  0.])\n"
     ]
    }
   ],
   "source": [
    "print(sol)"
   ]
  },
  {
   "cell_type": "markdown",
   "metadata": {},
   "source": [
    "To print the values that are needed we are going to use:"
   ]
  },
  {
   "cell_type": "code",
   "execution_count": 7,
   "metadata": {},
   "outputs": [
    {
     "name": "stdout",
     "output_type": "stream",
     "text": [
      "x1 = 5.0, x2 = 0.0, z = 35.0\n"
     ]
    }
   ],
   "source": [
    "print(\"x1 = {}, x2 = {}, z = {}\".format(sol.x[0], sol.x[1], sol.fun*-1))"
   ]
  },
  {
   "cell_type": "markdown",
   "metadata": {},
   "source": [
    "Using an easy way by multiplying our z variable (z = np.array([7,6])) and our sol.x values (sol.x)."
   ]
  },
  {
   "cell_type": "code",
   "execution_count": 8,
   "metadata": {},
   "outputs": [
    {
     "name": "stdout",
     "output_type": "stream",
     "text": [
      "z = 35.0\n"
     ]
    }
   ],
   "source": [
    "OF = z*sol.x\n",
    "print(\"z = {}\".format(OF.sum()))"
   ]
  },
  {
   "cell_type": "markdown",
   "metadata": {},
   "source": [
    "Our LP problem is solved now we are going to replace those values into the objective function.\n",
    "$$z(max) = 7x_1 + 6x_2$$\n",
    "$$z(max) = 7*5 + 6*0$$\n",
    "$$z(max) = 35$$"
   ]
  },
  {
   "cell_type": "markdown",
   "metadata": {},
   "source": [
    "Let's solve a LP more complex: \n",
    "\n",
    "*traducir la wea :v*\n",
    "\n",
    "Defina $X_1$ como el numero de mesas, $X_2$ como el numero de sofas y $X_3$ como el numero de sillas que se producirian cada mes. La utilidad se calcula como el ingreso por cada articulo menos el costo de materiales(madera y tela), menos el costo de mano de obra. Dado que la mano de obra es fija, se resta como una cantidad total. En terminos matematicos se tiene $(400 - 100)X_1 + (750 - 75 - 175)X_2 + (240 - 40)X_3 - 75000$ . La utilidad se calcula asi:\n",
    "\n",
    "$$Utilidad = 300X_1 + 500X_2 + 200X_3 - 75000$$\n",
    "\n",
    "Las restricciones son las siguientes:\n",
    "\n",
    "1. Madera: $10X_1 + 7.5X_2 + 4X_3 \\leq 4350$\n",
    "2. Tela: $10X_2 \\leq 2500$\n",
    "3. Serrado: $0.5X_1 + 0.4X_2 + 0.5X_3 \\leq 280$\n",
    "4. Cortado: $0.4X_2 \\leq 140$\n",
    "5. Lijado:  $0.5X_1 + 0.1X_2 + 0.5X_3 \\leq 280$\n",
    "6. Entintado: $0.4X_1 + 0.2X_2 + 0.4X_3 \\leq 140$\n",
    "7. Montaje: $1X_1 + 1.5X_2 + 0.5X_3 \\leq 700$\n",
    "\n",
    "Demanda:\n",
    "\n",
    "8. Mesas: $X_1 \\leq 300$\n",
    "9. Sofas: $X_2 \\leq 180$\n",
    "10. Sillas: $X_3 \\leq 400$"
   ]
  },
  {
   "cell_type": "code",
   "execution_count": 9,
   "metadata": {
    "collapsed": true
   },
   "outputs": [],
   "source": [
    "z = np.array([300, 500, 200])\n",
    "C = np.array([\n",
    "    [ 10, 7.5,   4], #C1\n",
    "    [  0,  10,   0], #C2\n",
    "    [0.5, 0.4, 0.5], #C3\n",
    "    [  0, 0.4,   0], #C4\n",
    "    [0.5, 0.1, 0.5], #C5\n",
    "    [0.4, 0.2, 0.4], #C6\n",
    "    [  1, 1.5, 0.5], #C7\n",
    "    [  1,   0,   0], #C8\n",
    "    [  0,   1,   0], #C9\n",
    "    [  0,   0,   1]  #C10\n",
    "])\n",
    "\n",
    "b = np.array([4350, 2500, 280, 140, 280, 140, 700, 300, 180, 400])"
   ]
  },
  {
   "cell_type": "code",
   "execution_count": 10,
   "metadata": {
    "collapsed": true
   },
   "outputs": [],
   "source": [
    "sol = linprog(-z, A_ub = C, b_ub = b, bounds=(0,None))"
   ]
  },
  {
   "cell_type": "code",
   "execution_count": 11,
   "metadata": {},
   "outputs": [
    {
     "name": "stdout",
     "output_type": "stream",
     "text": [
      "     fun: -168000.0\n",
      " message: 'Optimization terminated successfully.'\n",
      "     nit: 2\n",
      "   slack: array([ 400.,  700.,   78.,   68.,  132.,    0.,  170.,   40.,    0.,  400.])\n",
      "  status: 0\n",
      " success: True\n",
      "       x: array([ 260.,  180.,    0.])\n"
     ]
    }
   ],
   "source": [
    "print(sol)"
   ]
  },
  {
   "cell_type": "code",
   "execution_count": 12,
   "metadata": {},
   "outputs": [
    {
     "name": "stdout",
     "output_type": "stream",
     "text": [
      "X1 = 260.0, X2 = 180.0, X3 = 0.0\n"
     ]
    }
   ],
   "source": [
    "print('X1 = {}, X2 = {}, X3 = {}'.format(sol.x[0], sol.x[1], sol.x[2]))"
   ]
  },
  {
   "cell_type": "markdown",
   "metadata": {},
   "source": [
    "For $X_1, X_2, X_3$ in:\n",
    "$$ Utilidad = 300X_1 + 500X_2 + 200X_3 - 75 000 $$\n",
    "$$ Utilidad = 300*260 + 500*180 + 200*0 - 75 000$$\n",
    "$$ Utilidad = 93 000$$\n",
    "Solving in python:"
   ]
  },
  {
   "cell_type": "code",
   "execution_count": 13,
   "metadata": {},
   "outputs": [
    {
     "name": "stdout",
     "output_type": "stream",
     "text": [
      "Utilidad = 300*X1 + 500*X2 + 200X3 - 75000\n",
      "\n",
      "Utilidad = 93000.0\n"
     ]
    }
   ],
   "source": [
    "print('Utilidad = 300*X1 + 500*X2 + 200X3 - 75000\\n')\n",
    "\n",
    "OF = z*sol.x\n",
    "print('Utilidad = {}'.format(OF.sum()-75000))"
   ]
  }
 ],
 "metadata": {
  "kernelspec": {
   "display_name": "Python 3",
   "language": "python",
   "name": "python3"
  },
  "language_info": {
   "codemirror_mode": {
    "name": "ipython",
    "version": 3
   },
   "file_extension": ".py",
   "mimetype": "text/x-python",
   "name": "python",
   "nbconvert_exporter": "python",
   "pygments_lexer": "ipython3",
   "version": "3.6.1"
  }
 },
 "nbformat": 4,
 "nbformat_minor": 2
}
