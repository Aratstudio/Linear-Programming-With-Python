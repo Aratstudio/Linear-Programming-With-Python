{
 "cells": [
  {
   "cell_type": "markdown",
   "metadata": {},
   "source": [
    "# Solving a linear programming problem with Linprog"
   ]
  },
  {
   "cell_type": "code",
   "execution_count": 1,
   "metadata": {},
   "outputs": [],
   "source": [
    "from scipy.optimize import linprog\n",
    "import numpy as np"
   ]
  },
  {
   "cell_type": "markdown",
   "metadata": {},
   "source": [
    "## Objective function\n",
    "\n",
    "$$z(max) = 5x_1 + 4x_2$$\n",
    "\n",
    "## Constraints:\n",
    "\n",
    "- $C_1 = x_1 + x_2 \\leq 5$\n",
    "- $C_2 = 10*x_1 + 6*x_2 \\leq 45$\n",
    "- $x_1,x_2 \\geq 0$"
   ]
  },
  {
   "cell_type": "markdown",
   "metadata": {},
   "source": [
    "* Set objective function.\n",
    "\n",
    "Objective function is going to be stored in `z` variable, this variable is going to store coefficients of the objective function."
   ]
  },
  {
   "cell_type": "code",
   "execution_count": 2,
   "metadata": {},
   "outputs": [],
   "source": [
    "z = np.array([5,4])"
   ]
  },
  {
   "cell_type": "markdown",
   "metadata": {},
   "source": [
    "* After stored our Objective Function, we need to set Constraints.\n",
    "\n",
    "Constraints values are going to be stored in `C` variable and must be **2-D Array**, this variable is going to store all constraints of the problem."
   ]
  },
  {
   "cell_type": "code",
   "execution_count": 3,
   "metadata": {},
   "outputs": [],
   "source": [
    "C = np.array([\n",
    "    [1, 1],          #C1\n",
    "    [10,6]           #C2\n",
    "])"
   ]
  },
  {
   "cell_type": "markdown",
   "metadata": {},
   "source": [
    "* Set upper-bounds values for each Constraints.\n",
    "\n",
    "Upper-bounds values are going to be stored in `b` variable and must be **1-D Array**. In this case we need to store 5 and 45 for each constraint."
   ]
  },
  {
   "cell_type": "code",
   "execution_count": 4,
   "metadata": {},
   "outputs": [],
   "source": [
    "b = np.array([5,45])"
   ]
  },
  {
   "cell_type": "markdown",
   "metadata": {},
   "source": [
    "Specify bounds, in this case is $\\geq0$ for each variable $x_1$ and $x_2$."
   ]
  },
  {
   "cell_type": "code",
   "execution_count": 5,
   "metadata": {},
   "outputs": [],
   "source": [
    "x1 = (0, None)\n",
    "x2 = (0, None)"
   ]
  },
  {
   "cell_type": "markdown",
   "metadata": {},
   "source": [
    "To solve the problem, we need to call linprog and store the solution in a variable. \n",
    "\n",
    "The parameters that are going to be used are (`z`, `A_ub`, `b_ub`, `bounds`, `method`). More detail [here](https://docs.scipy.org/doc/scipy-0.15.1/reference/generated/scipy.optimize.linprog.html).\n",
    "\n",
    "This LP problem has a maximize objective function and `linprog` supports minimize problems. To solve it:\n",
    "\n",
    "$$ min(z(x)) = max(-z(x)) $$"
   ]
  },
  {
   "cell_type": "code",
   "execution_count": 6,
   "metadata": {},
   "outputs": [],
   "source": [
    "sol = linprog(-z, A_ub = C, b_ub = b, bounds = (x1, x2), method='simplex')"
   ]
  },
  {
   "cell_type": "code",
   "execution_count": 7,
   "metadata": {},
   "outputs": [
    {
     "data": {
      "text/plain": [
       "     fun: -23.75\n",
       " message: 'Optimization terminated successfully.'\n",
       "     nit: 2\n",
       "   slack: array([0., 0.])\n",
       "  status: 0\n",
       " success: True\n",
       "       x: array([3.75, 1.25])"
      ]
     },
     "execution_count": 7,
     "metadata": {},
     "output_type": "execute_result"
    }
   ],
   "source": [
    "sol"
   ]
  },
  {
   "cell_type": "markdown",
   "metadata": {},
   "source": [
    "To print the values that we need:"
   ]
  },
  {
   "cell_type": "code",
   "execution_count": 8,
   "metadata": {},
   "outputs": [
    {
     "name": "stdout",
     "output_type": "stream",
     "text": [
      "x1 = 3.75, x2 = 1.25, z = 23.75\n"
     ]
    }
   ],
   "source": [
    "print(f\"x1 = {sol.x[0]}, x2 = {sol.x[1]}, z = {sol.fun*-1}\")"
   ]
  },
  {
   "cell_type": "markdown",
   "metadata": {},
   "source": [
    "Our LP problem is solved, to check the result just replace the values $x_1$ and $x_2$ into the objective function.\n",
    "\n",
    "$z(max) = 5x_1 + 4x_2$\n",
    "\n",
    "$z(max) = 5 \\times 3.75 + 4 \\times 1.25$\n",
    "\n",
    "$z(max) = 23.75$"
   ]
  }
 ],
 "metadata": {
  "kernelspec": {
   "display_name": "Python 3",
   "language": "python",
   "name": "python3"
  },
  "language_info": {
   "codemirror_mode": {
    "name": "ipython",
    "version": 3
   },
   "file_extension": ".py",
   "mimetype": "text/x-python",
   "name": "python",
   "nbconvert_exporter": "python",
   "pygments_lexer": "ipython3",
   "version": "3.7.0"
  }
 },
 "nbformat": 4,
 "nbformat_minor": 2
}
