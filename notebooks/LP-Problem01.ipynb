{
 "cells": [
  {
   "cell_type": "markdown",
   "metadata": {},
   "source": [
    "<center> **Solving a Linear Programming Problem** </center>"
   ]
  },
  {
   "cell_type": "code",
   "execution_count": 1,
   "metadata": {
    "collapsed": true
   },
   "outputs": [],
   "source": [
    "from scipy.optimize import linprog\n",
    "import numpy as np"
   ]
  },
  {
   "cell_type": "markdown",
   "metadata": {},
   "source": [
    "Objective function:\n",
    "$$z(max) = 5x_1 + 4x_2$$\n",
    "\n",
    "Constraints:\n",
    "$$C_1 = x_1 + x_2 \\leq 5$$\n",
    "$$C_2 = 10*x_1 + 6*x_2 \\leq 45$$\n",
    "$$x_1,x_2 \\geq 0$$"
   ]
  },
  {
   "cell_type": "code",
   "execution_count": 2,
   "metadata": {
    "collapsed": true
   },
   "outputs": [],
   "source": [
    "z = np.array([5,4])"
   ]
  },
  {
   "cell_type": "markdown",
   "metadata": {},
   "source": [
    "C for constraints, which is going to store all constraints of the problem."
   ]
  },
  {
   "cell_type": "code",
   "execution_count": 3,
   "metadata": {
    "collapsed": true
   },
   "outputs": [],
   "source": [
    "C = np.array([\n",
    "    [1, 1],          #C1\n",
    "    [10,6]           #C2\n",
    "])"
   ]
  },
  {
   "cell_type": "markdown",
   "metadata": {},
   "source": [
    "Then store 5 and 45 for each constraint."
   ]
  },
  {
   "cell_type": "code",
   "execution_count": 4,
   "metadata": {
    "collapsed": true
   },
   "outputs": [],
   "source": [
    "b = np.array([5,45])"
   ]
  },
  {
   "cell_type": "markdown",
   "metadata": {},
   "source": [
    "We have to specify our bounds, in this case is $\\geq0$ for each variable $x_1$ and $x_2$."
   ]
  },
  {
   "cell_type": "code",
   "execution_count": 5,
   "metadata": {
    "collapsed": true
   },
   "outputs": [],
   "source": [
    "x1 = (0, None)\n",
    "x2 = (0, None)"
   ]
  },
  {
   "cell_type": "markdown",
   "metadata": {},
   "source": [
    "To solve the problem we need to call linprog, and store the solution in a variable. \n",
    "\n",
    "We are going to use sol."
   ]
  },
  {
   "cell_type": "code",
   "execution_count": 6,
   "metadata": {
    "collapsed": true
   },
   "outputs": [],
   "source": [
    "sol = linprog(-z, A_ub = C, b_ub = b, bounds = (x1, x2), method='simplex')"
   ]
  },
  {
   "cell_type": "code",
   "execution_count": 7,
   "metadata": {},
   "outputs": [
    {
     "name": "stdout",
     "output_type": "stream",
     "text": [
      "     fun: -23.75\n",
      " message: 'Optimization terminated successfully.'\n",
      "     nit: 2\n",
      "   slack: array([ 0.,  0.])\n",
      "  status: 0\n",
      " success: True\n",
      "       x: array([ 3.75,  1.25])\n"
     ]
    }
   ],
   "source": [
    "print(sol)"
   ]
  },
  {
   "cell_type": "markdown",
   "metadata": {},
   "source": [
    "To print the values that are needed we are going to use:"
   ]
  },
  {
   "cell_type": "code",
   "execution_count": 8,
   "metadata": {},
   "outputs": [
    {
     "name": "stdout",
     "output_type": "stream",
     "text": [
      "x1 = 3.75, x2 = 1.25, z = 23.75\n"
     ]
    }
   ],
   "source": [
    "print(\"x1 = {}, x2 = {}, z = {}\".format(sol.x[0], sol.x[1], sol.fun*-1))"
   ]
  },
  {
   "cell_type": "markdown",
   "metadata": {},
   "source": [
    "Our LP problem is solved now we are going to replace those values into the objective function.\n",
    "\n",
    "$$z(max) = 5x_1 + 4x_2$$\n",
    "$$z(max) = 5*3.75 + 4*1.25$$\n",
    "$$z(max) = 23.75$$"
   ]
  },
  {
   "cell_type": "markdown",
   "metadata": {},
   "source": [
    "Using an easy way by multiplying our z variable ```z = np.array([7,6])``` and our ```sol.x``` values."
   ]
  },
  {
   "cell_type": "code",
   "execution_count": 9,
   "metadata": {},
   "outputs": [
    {
     "name": "stdout",
     "output_type": "stream",
     "text": [
      "z = 23.75\n"
     ]
    }
   ],
   "source": [
    "OF = z*sol.x\n",
    "print(\"z = {}\".format(OF.sum()))"
   ]
  }
 ],
 "metadata": {
  "kernelspec": {
   "display_name": "Python 3",
   "language": "python",
   "name": "python3"
  },
  "language_info": {
   "codemirror_mode": {
    "name": "ipython",
    "version": 3
   },
   "file_extension": ".py",
   "mimetype": "text/x-python",
   "name": "python",
   "nbconvert_exporter": "python",
   "pygments_lexer": "ipython3",
   "version": "3.6.1"
  }
 },
 "nbformat": 4,
 "nbformat_minor": 2
}
